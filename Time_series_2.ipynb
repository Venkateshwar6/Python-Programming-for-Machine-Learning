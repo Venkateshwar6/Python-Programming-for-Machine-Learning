{
  "nbformat": 4,
  "nbformat_minor": 0,
  "metadata": {
    "colab": {
      "provenance": []
    },
    "kernelspec": {
      "name": "python3",
      "display_name": "Python 3"
    },
    "language_info": {
      "name": "python"
    }
  },
  "cells": [
    {
      "cell_type": "code",
      "execution_count": 1,
      "metadata": {
        "colab": {
          "base_uri": "https://localhost:8080/"
        },
        "id": "YlMHYq_G7Ll4",
        "outputId": "b890fc05-7a9d-4ee8-cbce-9b6a3b23811c"
      },
      "outputs": [
        {
          "output_type": "stream",
          "name": "stdout",
          "text": [
            "2025-04-11 08:17:47.976841\n"
          ]
        }
      ],
      "source": [
        "import datetime\n",
        "cd=datetime.datetime.now()\n",
        "print(cd)\n"
      ]
    },
    {
      "cell_type": "code",
      "source": [
        "res=cd.strftime(\"%y\")\n",
        "print(\"\\nTwo-digit year:\", res)\n"
      ],
      "metadata": {
        "colab": {
          "base_uri": "https://localhost:8080/"
        },
        "id": "y6NSyPe37WI2",
        "outputId": "053d791e-4615-4dfd-d8be-fa619e303a40"
      },
      "execution_count": 2,
      "outputs": [
        {
          "output_type": "stream",
          "name": "stdout",
          "text": [
            "\n",
            "Two-digit year: 25\n"
          ]
        }
      ]
    },
    {
      "cell_type": "code",
      "source": [
        "res1=cd.strftime(\"%Y\")\n",
        "print(\"\\nFour-digit year:\", res1)\n"
      ],
      "metadata": {
        "colab": {
          "base_uri": "https://localhost:8080/"
        },
        "id": "09Cpet6d7ZDU",
        "outputId": "f4aa6960-c5d3-4bc2-d683-3459f10f0d13"
      },
      "execution_count": 3,
      "outputs": [
        {
          "output_type": "stream",
          "name": "stdout",
          "text": [
            "\n",
            "Four-digit year: 2025\n"
          ]
        }
      ]
    },
    {
      "cell_type": "code",
      "source": [
        "res=cd.strftime(\"%m\")\n",
        "print(\"\\nTwo-digit month [01, 12]:\",res)\n"
      ],
      "metadata": {
        "colab": {
          "base_uri": "https://localhost:8080/"
        },
        "id": "eVqdxVVE7cz9",
        "outputId": "1d51590c-1dd7-4aa1-f713-6e937d4c8172"
      },
      "execution_count": 9,
      "outputs": [
        {
          "output_type": "stream",
          "name": "stdout",
          "text": [
            "\n",
            "Two-digit month [01, 12]: 04\n"
          ]
        }
      ]
    },
    {
      "cell_type": "code",
      "source": [
        "res=cd.strftime(\"%b\")\n",
        "print(\"\\nShort version of month\", res)\n"
      ],
      "metadata": {
        "colab": {
          "base_uri": "https://localhost:8080/"
        },
        "id": "GJSRA0bM7lCO",
        "outputId": "a33c67b2-b855-407d-b537-84e14c090142"
      },
      "execution_count": 13,
      "outputs": [
        {
          "output_type": "stream",
          "name": "stdout",
          "text": [
            "\n",
            "Short version of month Apr\n"
          ]
        }
      ]
    },
    {
      "cell_type": "code",
      "source": [
        "res=cd.strftime(\"%B\")\n",
        "print(\"\\nFull name of month:\",res)\n"
      ],
      "metadata": {
        "colab": {
          "base_uri": "https://localhost:8080/"
        },
        "id": "3U4Fo_gI7x0e",
        "outputId": "8865b183-3503-421a-fcaa-3361dde1b06b"
      },
      "execution_count": 14,
      "outputs": [
        {
          "output_type": "stream",
          "name": "stdout",
          "text": [
            "\n",
            "Full name of month: April\n"
          ]
        }
      ]
    },
    {
      "cell_type": "code",
      "source": [
        "res=cd.strftime(\"%j\")\n",
        "print(\"\\nDays of the year:\", res)\n"
      ],
      "metadata": {
        "colab": {
          "base_uri": "https://localhost:8080/"
        },
        "id": "1IFtPsNK71rF",
        "outputId": "e496cfc5-d7e2-4807-d677-9b7bce0de165"
      },
      "execution_count": 15,
      "outputs": [
        {
          "output_type": "stream",
          "name": "stdout",
          "text": [
            "\n",
            "Days of the year: 101\n"
          ]
        }
      ]
    },
    {
      "cell_type": "code",
      "source": [
        "res=cd.strftime(\"%D\")\n",
        "print(\"\\nShortcut for %m/%d/%y (e.g., 04/18/12):\", res)\n"
      ],
      "metadata": {
        "colab": {
          "base_uri": "https://localhost:8080/"
        },
        "id": "OQPnMSF875Tp",
        "outputId": "5aea6159-62e0-4248-eb15-35c2bb447756"
      },
      "execution_count": 16,
      "outputs": [
        {
          "output_type": "stream",
          "name": "stdout",
          "text": [
            "\n",
            "Shortcut for %m/%d/%y (e.g., 04/18/12): 04/11/25\n"
          ]
        }
      ]
    },
    {
      "cell_type": "code",
      "source": [
        "res=cd.strftime(\"%d\")\n",
        "print(\"\\nTwo-digit day [01, 31]:\", res)\n"
      ],
      "metadata": {
        "colab": {
          "base_uri": "https://localhost:8080/"
        },
        "id": "RGMSX8Wl8JTl",
        "outputId": "3f89aa11-9891-40d6-b0d1-2521e5375591"
      },
      "execution_count": 17,
      "outputs": [
        {
          "output_type": "stream",
          "name": "stdout",
          "text": [
            "\n",
            "Two-digit day [01, 31]: 11\n"
          ]
        }
      ]
    },
    {
      "cell_type": "code",
      "source": [
        "res=cd.strftime(\"%a\")\n",
        "print(\"\\nShort version of day\", res)\n"
      ],
      "metadata": {
        "colab": {
          "base_uri": "https://localhost:8080/"
        },
        "id": "JJU7fwpg8MMg",
        "outputId": "a05f6c5a-15ea-4dc5-fd31-102b91c60a3a"
      },
      "execution_count": 18,
      "outputs": [
        {
          "output_type": "stream",
          "name": "stdout",
          "text": [
            "\n",
            "Short version of day Fri\n"
          ]
        }
      ]
    },
    {
      "cell_type": "code",
      "source": [
        "res=cd.strftime(\"A\")\n",
        "print(\"\\nFull name of a day:\", res)\n",
        "res=cd.strftime(\"%H\")\n",
        "print(\"\\nHour (24-hour clock) [00, 23]:\",res)\n"
      ],
      "metadata": {
        "colab": {
          "base_uri": "https://localhost:8080/"
        },
        "id": "-xGs5-iH8PT9",
        "outputId": "4ec6b14e-c328-456c-ab2c-5eb37bd7c0f6"
      },
      "execution_count": 20,
      "outputs": [
        {
          "output_type": "stream",
          "name": "stdout",
          "text": [
            "\n",
            "Full name of a day: A\n",
            "\n",
            "Hour (24-hour clock) [00, 23]: 08\n"
          ]
        }
      ]
    },
    {
      "cell_type": "code",
      "source": [
        "res=cd.strftime(\"%I\")\n",
        "print(\"\\nHour (12-hour clock) [01, 12]\",res)\n"
      ],
      "metadata": {
        "colab": {
          "base_uri": "https://localhost:8080/"
        },
        "id": "kg5uP2zD8TIA",
        "outputId": "7543b401-662c-4fff-cc32-89820ce71900"
      },
      "execution_count": 21,
      "outputs": [
        {
          "output_type": "stream",
          "name": "stdout",
          "text": [
            "\n",
            "Hour (12-hour clock) [01, 12] 08\n"
          ]
        }
      ]
    },
    {
      "cell_type": "code",
      "source": [
        "res=cd.strftime(\"%M\")\n",
        "print(\"\\nTwo-digit minute [00, 59]:\", res)\n"
      ],
      "metadata": {
        "colab": {
          "base_uri": "https://localhost:8080/"
        },
        "id": "8mE9aUOt8YkK",
        "outputId": "3d433049-161a-438d-cf18-4ba36b362ad9"
      },
      "execution_count": 22,
      "outputs": [
        {
          "output_type": "stream",
          "name": "stdout",
          "text": [
            "\n",
            "Two-digit minute [00, 59]: 17\n"
          ]
        }
      ]
    },
    {
      "cell_type": "code",
      "source": [
        "res=cd.strftime(\"%S\")\n",
        "print(\"\\nSecond (00, 61] (seconds 60, 61 account for leap seconds):\",res)\n"
      ],
      "metadata": {
        "colab": {
          "base_uri": "https://localhost:8080/"
        },
        "id": "KYoYqzQ08aAV",
        "outputId": "1e359f58-cbb8-4af2-81d6-63197d398cfa"
      },
      "execution_count": 23,
      "outputs": [
        {
          "output_type": "stream",
          "name": "stdout",
          "text": [
            "\n",
            "Second (00, 61] (seconds 60, 61 account for leap seconds): 47\n"
          ]
        }
      ]
    },
    {
      "cell_type": "code",
      "source": [
        "res=cd.strftime(\"%F\")\n",
        "print(\"\\nShortcut for %Y-%m-%d (eg, 2012-4-18):\",res)\n"
      ],
      "metadata": {
        "colab": {
          "base_uri": "https://localhost:8080/"
        },
        "id": "JW82V7T18hAQ",
        "outputId": "06b3be3e-e899-4fae-9cc1-5165e03a0860"
      },
      "execution_count": 24,
      "outputs": [
        {
          "output_type": "stream",
          "name": "stdout",
          "text": [
            "\n",
            "Shortcut for %Y-%m-%d (eg, 2012-4-18): 2025-04-11\n"
          ]
        }
      ]
    },
    {
      "cell_type": "code",
      "source": [
        "res=cd.strftime(\"%f\")\n",
        "print(\"\\nMicrosecond as an integer, zero-padded (from 000000 to 999999);\", res)\n"
      ],
      "metadata": {
        "colab": {
          "base_uri": "https://localhost:8080/"
        },
        "id": "calGYHIV8joN",
        "outputId": "789cfbda-7d92-4942-8d2b-d581eb263fdf"
      },
      "execution_count": 25,
      "outputs": [
        {
          "output_type": "stream",
          "name": "stdout",
          "text": [
            "\n",
            "Microsecond as an integer, zero-padded (from 000000 to 999999); 976841\n"
          ]
        }
      ]
    },
    {
      "cell_type": "code",
      "source": [
        "res=cd.strftime(\"%p\")\n",
        "print(\"\\nLocale equivalent of AM or PM:\", res)\n"
      ],
      "metadata": {
        "colab": {
          "base_uri": "https://localhost:8080/"
        },
        "id": "VBXgPSXf8m7r",
        "outputId": "5aa83f58-ea39-41d4-a6b0-f8b8e38ecc4a"
      },
      "execution_count": 26,
      "outputs": [
        {
          "output_type": "stream",
          "name": "stdout",
          "text": [
            "\n",
            "Locale equivalent of AM or PM: AM\n"
          ]
        }
      ]
    },
    {
      "cell_type": "code",
      "source": [
        "res=cd.strftime(\"%x\")\n",
        "print(\"\\nLocale-appropriate formatted date (eg, in the United States, May 1, 2012 yields '05/01/2012)\", res)\n"
      ],
      "metadata": {
        "colab": {
          "base_uri": "https://localhost:8080/"
        },
        "id": "IgGW73Fj8pti",
        "outputId": "9ddf2752-15a1-48cd-d501-59b248c03711"
      },
      "execution_count": 27,
      "outputs": [
        {
          "output_type": "stream",
          "name": "stdout",
          "text": [
            "\n",
            "Locale-appropriate formatted date (eg, in the United States, May 1, 2012 yields '05/01/2012) 04/11/25\n"
          ]
        }
      ]
    },
    {
      "cell_type": "code",
      "source": [
        "res=cd.strftime(\"%X\")\n",
        "print(\"\\nLocale-appropriate time (e.g., '04:24:12 PM'):\",res)\n"
      ],
      "metadata": {
        "colab": {
          "base_uri": "https://localhost:8080/"
        },
        "id": "9RRrme8o8tAo",
        "outputId": "b29beca8-2b7b-4a90-d091-631af633a2a7"
      },
      "execution_count": 28,
      "outputs": [
        {
          "output_type": "stream",
          "name": "stdout",
          "text": [
            "\n",
            "Locale-appropriate time (e.g., '04:24:12 PM'): 08:17:47\n"
          ]
        }
      ]
    }
  ]
}
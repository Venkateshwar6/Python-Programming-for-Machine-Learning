{
 "cells": [
  {
   "cell_type": "code",
   "execution_count": 7,
   "id": "eab6b359",
   "metadata": {},
   "outputs": [
    {
     "name": "stdout",
     "output_type": "stream",
     "text": [
      "\n",
      " orginal DataFrame\n",
      "       Name category  value  score\n",
      "0      Abi        A      2     82\n",
      "1  Charles        B      2     89\n",
      "2   Darwin        C      4     60\n",
      "3      Abi        A      4     70\n",
      "4  Charles        B      2     64\n",
      "5   Darwin        C      2     83\n"
     ]
    }
   ],
   "source": [
    "import pandas as pd\n",
    "import numpy as np\n",
    "df=pd.DataFrame({'Name':['Abi','Charles','Darwin','Abi','Charles','Darwin'],'category':['A','B','C','A','B','C'],'value':np.random.randint(1,5,size=6),'score':np.random.randint(60,100,size=6)})\n",
    "print(\"\\n orginal DataFrame\\n\",df)"
   ]
  },
  {
   "cell_type": "code",
   "execution_count": 9,
   "id": "a4104ace",
   "metadata": {},
   "outputs": [
    {
     "name": "stdout",
     "output_type": "stream",
     "text": [
      "\n",
      " Original dataframe\n",
      "       Name category  value  score\n",
      "0      Abi        A      2     82\n",
      "1  Charles        B      2     89\n",
      "2   Darwin        C      4     60\n",
      "3      Abi        A      4     70\n",
      "4  Charles        B      2     64\n",
      "5   Darwin        C      2     83\n",
      "\n",
      " Grouped dataframe with one column sum\n",
      "       Name  value\n",
      "0      Abi      6\n",
      "1  Charles      4\n",
      "2   Darwin      6\n"
     ]
    }
   ],
   "source": [
    "\n",
    "df1 = df.groupby(['Name'], as_index=False)['value'].sum()\n",
    "print(\"\\n Original dataframe\\n\", df)\n",
    "print(\"\\n Grouped dataframe with one column sum\\n\", df1)"
   ]
  },
  {
   "cell_type": "code",
   "execution_count": 13,
   "id": "9718e68e",
   "metadata": {},
   "outputs": [
    {
     "name": "stdout",
     "output_type": "stream",
     "text": [
      "\n",
      "Grouped and aggregate with two column 'sum' :\n",
      "       Name  value  score\n",
      "0      Abi      6    152\n",
      "1  Charles      4    153\n",
      "2   Darwin      6    143\n"
     ]
    }
   ],
   "source": [
    "df2 = df.groupby(['Name'], as_index=False)[['value','score']].sum()\n",
    "\n",
    "print(\"\\nGrouped and aggregate with two column 'sum' :\\n\", df2)\n"
   ]
  },
  {
   "cell_type": "code",
   "execution_count": 15,
   "id": "0a1c7737",
   "metadata": {},
   "outputs": [
    {
     "name": "stdout",
     "output_type": "stream",
     "text": [
      "\n",
      "Grouped and aggregate with one column :\n",
      "       Name  value\n",
      "0      Abi      6\n",
      "1  Charles      4\n",
      "2   Darwin      6\n"
     ]
    }
   ],
   "source": [
    "df3= df.groupby(['Name'], as_df3index=False)['value'].agg('sum')\n",
    "print(\"\\nGrouped and aggregate with one column :\\n\", df3)                                           "
   ]
  },
  {
   "cell_type": "code",
   "execution_count": 16,
   "id": "144a83da",
   "metadata": {},
   "outputs": [
    {
     "name": "stdout",
     "output_type": "stream",
     "text": [
      "\\group by Name and multiple aggregation:\n",
      "         value              score      \n",
      "          sum mean min max   sum  mean\n",
      "Name                                  \n",
      "Abi         6  3.0   2   4   152  76.0\n",
      "Charles     4  2.0   2   2   153  76.5\n",
      "Darwin      6  3.0   2   4   143  71.5\n"
     ]
    }
   ],
   "source": [
    "df4=df.groupby(\"Name\").agg({\"value\":[\"sum\",\"mean\",\"min\",\"max\"],\"score\":[\"sum\",\"mean\"]})\n",
    "print(\"\\group by Name and multiple aggregation:\\n\", df4)          "
   ]
  },
  {
   "cell_type": "code",
   "execution_count": 25,
   "id": "992a6b37",
   "metadata": {},
   "outputs": [
    {
     "name": "stdout",
     "output_type": "stream",
     "text": [
      "\n",
      "Grouped and count \n",
      "       Name  value\n",
      "0      Abi      2\n",
      "1  Charles      2\n",
      "2   Darwin      2\n"
     ]
    }
   ],
   "source": [
    "df5= df.groupby(['Name'], as_index=False)['value'].count()\n",
    "print(\"\\nGrouped and count \\n\",df5)"
   ]
  },
  {
   "cell_type": "code",
   "execution_count": 26,
   "id": "63808cbb",
   "metadata": {},
   "outputs": [
    {
     "name": "stdout",
     "output_type": "stream",
     "text": [
      "\n",
      "Grouped and count \n",
      "          category  value  score\n",
      "Name                           \n",
      "Abi             2      2      2\n",
      "Charles         2      2      2\n",
      "Darwin          2      2      2\n"
     ]
    }
   ],
   "source": [
    "df6= df.groupby(['Name']).count()\n",
    "print(\"\\nGrouped and count \\n\",df6)"
   ]
  },
  {
   "cell_type": "code",
   "execution_count": 28,
   "id": "fcf89e37",
   "metadata": {},
   "outputs": [
    {
     "name": "stdout",
     "output_type": "stream",
     "text": [
      "\n",
      " Group and display from first: \n",
      "       Name  value\n",
      "0      Abi      2\n",
      "1  Charles      2\n",
      "2   Darwin      4\n",
      "\n",
      " Group and display from first: \n",
      "         category  value  score\n",
      "Name                          \n",
      "Abi            A      2     82\n",
      "Charles        B      2     89\n",
      "Darwin         C      4     60\n"
     ]
    }
   ],
   "source": [
    "df7=df.groupby(('Name'),as_index=False)['value'].first()\n",
    "print(\"\\n Group and display from first: \\n\",df7)\n",
    "df8=df.groupby(('Name')).first()\n",
    "print(\"\\n Group and display from first: \\n\",df8)"
   ]
  },
  {
   "cell_type": "code",
   "execution_count": 29,
   "id": "ec10f557",
   "metadata": {},
   "outputs": [
    {
     "name": "stdout",
     "output_type": "stream",
     "text": [
      "\n",
      " Group and display from last: \n",
      "       Name  value\n",
      "0      Abi      4\n",
      "1  Charles      2\n",
      "2   Darwin      2\n",
      "\n",
      " Group and display from last: \n",
      "         category  value  score\n",
      "Name                          \n",
      "Abi            A      4     70\n",
      "Charles        B      2     64\n",
      "Darwin         C      2     83\n"
     ]
    }
   ],
   "source": [
    "df9=df.groupby(('Name'),as_index=False)['value'].last()\n",
    "print(\"\\n Group and display from last: \\n\",df9)\n",
    "df10=df.groupby(('Name')).last()\n",
    "print(\"\\n Group and display from last: \\n\",df10)"
   ]
  },
  {
   "cell_type": "code",
   "execution_count": 30,
   "id": "34a6f54f",
   "metadata": {},
   "outputs": [
    {
     "name": "stdout",
     "output_type": "stream",
     "text": [
      "\n",
      " Group and display from size: \n",
      "       Name  size\n",
      "0      Abi     2\n",
      "1  Charles     2\n",
      "2   Darwin     2\n",
      "\n",
      " Group and display from size: \n",
      " Name\n",
      "Abi        2\n",
      "Charles    2\n",
      "Darwin     2\n",
      "dtype: int64\n"
     ]
    }
   ],
   "source": [
    "df11=df.groupby(('Name'),as_index=False)['value'].size()\n",
    "print(\"\\n Group and display from size: \\n\",df11)\n",
    "df12=df.groupby(('Name')).size()\n",
    "print(\"\\n Group and display from size: \\n\",df12)"
   ]
  },
  {
   "cell_type": "code",
   "execution_count": null,
   "id": "5958099f",
   "metadata": {},
   "outputs": [],
   "source": []
  }
 ],
 "metadata": {
  "kernelspec": {
   "display_name": "Python 3 (ipykernel)",
   "language": "python",
   "name": "python3"
  },
  "language_info": {
   "codemirror_mode": {
    "name": "ipython",
    "version": 3
   },
   "file_extension": ".py",
   "mimetype": "text/x-python",
   "name": "python",
   "nbconvert_exporter": "python",
   "pygments_lexer": "ipython3",
   "version": "3.11.5"
  }
 },
 "nbformat": 4,
 "nbformat_minor": 5
}

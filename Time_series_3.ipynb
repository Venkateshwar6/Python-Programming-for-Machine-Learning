{
  "nbformat": 4,
  "nbformat_minor": 0,
  "metadata": {
    "colab": {
      "provenance": []
    },
    "kernelspec": {
      "name": "python3",
      "display_name": "Python 3"
    },
    "language_info": {
      "name": "python"
    }
  },
  "cells": [
    {
      "cell_type": "code",
      "execution_count": 4,
      "metadata": {
        "colab": {
          "base_uri": "https://localhost:8080/"
        },
        "id": "WKStuiZEBVfL",
        "outputId": "4bc3b026-3917-4a37-8c3f-3eb9155901c1"
      },
      "outputs": [
        {
          "output_type": "stream",
          "name": "stdout",
          "text": [
            "Date Index \n",
            " 2011-01-02   -0.316043\n",
            "2011-01-05   -0.015180\n",
            "2011-01-07   -0.858152\n",
            "2011-01-08   -0.526533\n",
            "2011-01-10    0.387598\n",
            "2011-01-12   -1.646362\n",
            "dtype: float64\n"
          ]
        }
      ],
      "source": [
        "import pandas as pd\n",
        "import numpy as np\n",
        "from datetime import datetime\n",
        "\n",
        "#create a date variable that contains the dates\n",
        "dates = [datetime(2011, 1, 2),\n",
        "         datetime(2011, 1, 5),\n",
        "         datetime(2011, 1, 7),\n",
        "         datetime(2011, 1, 8),\n",
        "         datetime(2011, 1, 10),\n",
        "         datetime(2011, 1, 12)]\n",
        "#with this date object, create a series\n",
        "ts = pd.Series(np.random.randn(6), index=dates)\n",
        "print(\"Date Index \\n\",ts)\n"
      ]
    },
    {
      "cell_type": "code",
      "source": [
        "print(\"\\nDate Index alone from the series: \\n\",ts.index)\n"
      ],
      "metadata": {
        "colab": {
          "base_uri": "https://localhost:8080/"
        },
        "id": "XVCr07h8BkP5",
        "outputId": "649266f9-0d41-4198-931b-fe1f660c82f3"
      },
      "execution_count": 5,
      "outputs": [
        {
          "output_type": "stream",
          "name": "stdout",
          "text": [
            "\n",
            "Date Index alone from the series: \n",
            " DatetimeIndex(['2011-01-02', '2011-01-05', '2011-01-07', '2011-01-08',\n",
            "               '2011-01-10', '2011-01-12'],\n",
            "              dtype='datetime64[ns]', freq=None)\n"
          ]
        }
      ]
    },
    {
      "cell_type": "code",
      "source": [
        "stamp=ts.index[2]\n",
        "print(\"\\nSecond index:\\n\", stamp)\n"
      ],
      "metadata": {
        "colab": {
          "base_uri": "https://localhost:8080/"
        },
        "id": "BcxY4O8wB2c_",
        "outputId": "ad5b1116-62b3-4dee-fd8b-aa4065b4de35"
      },
      "execution_count": 6,
      "outputs": [
        {
          "output_type": "stream",
          "name": "stdout",
          "text": [
            "\n",
            "Second index:\n",
            " 2011-01-07 00:00:00\n"
          ]
        }
      ]
    },
    {
      "cell_type": "code",
      "source": [
        "stamp=ts.index[2]\n",
        "print(\"\\nSecond index:\\n\", stamp)\n",
        "#play like a ball with long-times series\n",
        "longer_ts=pd.Series(np.random.randn(1000),\n",
        "                    index=pd.date_range(\"2000-01-01\",periods=1000))\n",
        "print(\"\\nDaterange up to 1000 days:\\n\",longer_ts)\n"
      ],
      "metadata": {
        "colab": {
          "base_uri": "https://localhost:8080/"
        },
        "id": "KwnNTkEuB6wQ",
        "outputId": "cb9c8b9d-f017-4eb2-e5af-a570c8adebfc"
      },
      "execution_count": 7,
      "outputs": [
        {
          "output_type": "stream",
          "name": "stdout",
          "text": [
            "\n",
            "Second index:\n",
            " 2011-01-07 00:00:00\n",
            "\n",
            "Daterange up to 1000 days:\n",
            " 2000-01-01    1.045384\n",
            "2000-01-02    1.984419\n",
            "2000-01-03    0.896688\n",
            "2000-01-04   -0.449124\n",
            "2000-01-05    0.068463\n",
            "                ...   \n",
            "2002-09-22    0.958444\n",
            "2002-09-23    0.368951\n",
            "2002-09-24    0.685697\n",
            "2002-09-25   -0.005169\n",
            "2002-09-26    0.054716\n",
            "Freq: D, Length: 1000, dtype: float64\n"
          ]
        }
      ]
    },
    {
      "cell_type": "code",
      "source": [
        "\n",
        "print(\"\\nDate range-2001 year:\\n\", longer_ts[\"2001\"])\n"
      ],
      "metadata": {
        "colab": {
          "base_uri": "https://localhost:8080/"
        },
        "id": "7jytpHpFB8ZN",
        "outputId": "e760bdef-e165-4fc9-b880-f5cf8af42dd5"
      },
      "execution_count": 9,
      "outputs": [
        {
          "output_type": "stream",
          "name": "stdout",
          "text": [
            "\n",
            "Date range-2001 year:\n",
            " 2001-01-01   -0.843727\n",
            "2001-01-02    1.816222\n",
            "2001-01-03    0.898922\n",
            "2001-01-04    0.080586\n",
            "2001-01-05   -0.645741\n",
            "                ...   \n",
            "2001-12-27    0.353209\n",
            "2001-12-28    0.123874\n",
            "2001-12-29   -0.827747\n",
            "2001-12-30   -1.703278\n",
            "2001-12-31   -0.685011\n",
            "Freq: D, Length: 365, dtype: float64\n"
          ]
        }
      ]
    },
    {
      "cell_type": "code",
      "source": [
        "print(\"\\nDate range-05 month 2001 year:\\n\", longer_ts[\"2001-05\"])\n"
      ],
      "metadata": {
        "colab": {
          "base_uri": "https://localhost:8080/"
        },
        "id": "ujh5A--zCM_r",
        "outputId": "b9d70e96-d239-495e-a241-4ac417134291"
      },
      "execution_count": 10,
      "outputs": [
        {
          "output_type": "stream",
          "name": "stdout",
          "text": [
            "\n",
            "Date range-05 month 2001 year:\n",
            " 2001-05-01   -2.019923\n",
            "2001-05-02    0.017601\n",
            "2001-05-03   -0.619761\n",
            "2001-05-04   -0.091746\n",
            "2001-05-05   -0.266297\n",
            "2001-05-06   -0.950761\n",
            "2001-05-07    0.579809\n",
            "2001-05-08    0.746473\n",
            "2001-05-09    0.716636\n",
            "2001-05-10    2.264825\n",
            "2001-05-11    0.775883\n",
            "2001-05-12    0.606029\n",
            "2001-05-13   -1.206864\n",
            "2001-05-14   -0.553071\n",
            "2001-05-15   -0.534531\n",
            "2001-05-16   -0.595502\n",
            "2001-05-17    0.690469\n",
            "2001-05-18   -0.278710\n",
            "2001-05-19   -0.500225\n",
            "2001-05-20   -0.357968\n",
            "2001-05-21    0.244225\n",
            "2001-05-22    0.690677\n",
            "2001-05-23    1.272813\n",
            "2001-05-24   -0.072767\n",
            "2001-05-25    0.385119\n",
            "2001-05-26    0.013075\n",
            "2001-05-27    1.170122\n",
            "2001-05-28    0.422230\n",
            "2001-05-29   -1.197532\n",
            "2001-05-30    0.405455\n",
            "2001-05-31    1.309830\n",
            "Freq: D, dtype: float64\n"
          ]
        }
      ]
    },
    {
      "cell_type": "code",
      "source": [
        "print(\"\\nDate range-first few dates in 2000 year:\\n\",longer_ts[\"2000\"].head())\n"
      ],
      "metadata": {
        "colab": {
          "base_uri": "https://localhost:8080/"
        },
        "id": "chkkuBzNCS_D",
        "outputId": "1271ea5a-cec5-4e7f-9dcf-58f603d86f89"
      },
      "execution_count": 11,
      "outputs": [
        {
          "output_type": "stream",
          "name": "stdout",
          "text": [
            "\n",
            "Date range-first few dates in 2000 year:\n",
            " 2000-01-01   -0.337879\n",
            "2000-01-02   -1.254381\n",
            "2000-01-03    1.143406\n",
            "2000-01-04    1.301985\n",
            "2000-01-05   -1.537996\n",
            "Freq: D, dtype: float64\n"
          ]
        }
      ]
    },
    {
      "cell_type": "code",
      "source": [
        "print(\"\\nDate range-first 15 dates in 02 month 2001 year:\\n\",longer_ts[\"2000-02\"].head(15))\n"
      ],
      "metadata": {
        "colab": {
          "base_uri": "https://localhost:8080/"
        },
        "id": "x9la5JJ7CXO6",
        "outputId": "574e9ec4-f999-4ba1-dc89-31845a5782ba"
      },
      "execution_count": 12,
      "outputs": [
        {
          "output_type": "stream",
          "name": "stdout",
          "text": [
            "\n",
            "Date range-first 15 dates in 02 month 2001 year:\n",
            " 2000-02-01    0.618680\n",
            "2000-02-02   -0.891603\n",
            "2000-02-03    1.136774\n",
            "2000-02-04   -1.312026\n",
            "2000-02-05   -0.582445\n",
            "2000-02-06    0.729813\n",
            "2000-02-07   -0.837119\n",
            "2000-02-08    0.244477\n",
            "2000-02-09    0.686328\n",
            "2000-02-10   -0.939687\n",
            "2000-02-11    0.119379\n",
            "2000-02-12    1.175890\n",
            "2000-02-13    0.131715\n",
            "2000-02-14    1.252684\n",
            "2000-02-15   -0.977386\n",
            "Freq: D, dtype: float64\n"
          ]
        }
      ]
    },
    {
      "cell_type": "code",
      "source": [
        "print(\"\\nDate range-rom 26-9-2001:\\n\",longer_ts[datetime(2000,9,26):])"
      ],
      "metadata": {
        "colab": {
          "base_uri": "https://localhost:8080/"
        },
        "id": "tDyj-DUUCc1v",
        "outputId": "8bedfafa-8b7d-4599-fef1-82dfb4cc33be"
      },
      "execution_count": 13,
      "outputs": [
        {
          "output_type": "stream",
          "name": "stdout",
          "text": [
            "\n",
            "Date range-rom 26-9-2001:\n",
            " 2000-09-26    1.672354\n",
            "2000-09-27   -1.681587\n",
            "2000-09-28    2.208906\n",
            "2000-09-29   -0.599433\n",
            "2000-09-30    0.191283\n",
            "                ...   \n",
            "2002-09-22    0.238311\n",
            "2002-09-23   -0.155298\n",
            "2002-09-24    0.777903\n",
            "2002-09-25    1.064376\n",
            "2002-09-26    1.436368\n",
            "Freq: D, Length: 731, dtype: float64\n"
          ]
        }
      ]
    }
  ]
}